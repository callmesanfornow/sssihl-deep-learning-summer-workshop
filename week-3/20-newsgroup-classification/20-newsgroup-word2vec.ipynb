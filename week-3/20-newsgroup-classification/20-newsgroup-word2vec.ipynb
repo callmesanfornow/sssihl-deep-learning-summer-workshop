{
 "cells": [
  {
   "cell_type": "code",
   "execution_count": 7,
   "metadata": {},
   "outputs": [
    {
     "name": "stderr",
     "output_type": "stream",
     "text": [
      "[nltk_data] Downloading package punkt to\n",
      "[nltk_data]     /Users/adityanarayan/nltk_data...\n",
      "[nltk_data]   Unzipping tokenizers/punkt.zip.\n"
     ]
    },
    {
     "data": {
      "text/plain": [
       "True"
      ]
     },
     "execution_count": 7,
     "metadata": {},
     "output_type": "execute_result"
    }
   ],
   "source": [
    "import nltk\n",
    "nltk.download('punkt')"
   ]
  },
  {
   "cell_type": "code",
   "execution_count": 8,
   "metadata": {},
   "outputs": [],
   "source": [
    "import numpy as np\n",
    "from sklearn.datasets import fetch_20newsgroups\n",
    "from sklearn.model_selection import train_test_split\n",
    "from sklearn.metrics import classification_report\n",
    "from gensim.models import Word2Vec\n",
    "from gensim.models.doc2vec import TaggedDocument\n",
    "from nltk.tokenize import word_tokenize\n"
   ]
  },
  {
   "cell_type": "code",
   "execution_count": 9,
   "metadata": {},
   "outputs": [],
   "source": [
    "# Load the 20 Newsgroups dataset\n",
    "categories = ['alt.atheism', 'comp.graphics', 'comp.os.ms-windows.misc', 'comp.sys.ibm.pc.hardware',\n",
    "              'comp.sys.mac.hardware', 'comp.windows.x', 'misc.forsale', 'rec.autos', 'rec.motorcycles',\n",
    "              'rec.sport.baseball', 'rec.sport.hockey', 'sci.crypt', 'sci.electronics', 'sci.med',\n",
    "              'sci.space', 'soc.religion.christian', 'talk.politics.guns', 'talk.politics.mideast',\n",
    "              'talk.politics.misc', 'talk.religion.misc']\n",
    "newsgroups = fetch_20newsgroups(subset='all', categories=categories)"
   ]
  },
  {
   "cell_type": "code",
   "execution_count": 10,
   "metadata": {},
   "outputs": [],
   "source": [
    "# Preprocess the text\n",
    "documents = newsgroups.data\n",
    "labels = newsgroups.target"
   ]
  },
  {
   "cell_type": "code",
   "execution_count": 11,
   "metadata": {},
   "outputs": [],
   "source": [
    "# Split the data into training and testing sets\n",
    "X_train, X_test, y_train, y_test = train_test_split(documents, labels, test_size=0.2, random_state=42)"
   ]
  },
  {
   "cell_type": "code",
   "execution_count": 12,
   "metadata": {},
   "outputs": [],
   "source": [
    "# Tokenize the documents\n",
    "tokenized_train = [word_tokenize(doc.lower()) for doc in X_train]\n",
    "tokenized_test = [word_tokenize(doc.lower()) for doc in X_test]"
   ]
  },
  {
   "cell_type": "code",
   "execution_count": 14,
   "metadata": {},
   "outputs": [],
   "source": [
    "# Train Word2Vec model\n",
    "model = Word2Vec(sentences=tokenized_train, window=5, min_count=1)"
   ]
  },
  {
   "cell_type": "code",
   "execution_count": 15,
   "metadata": {},
   "outputs": [],
   "source": [
    "# Prepare document vectors\n",
    "train_vectors = [np.mean([model.wv[word] for word in doc], axis=0) for doc in tokenized_train]\n",
    "test_vectors = [np.mean([model.wv[word] for word in doc if word in model.wv], axis=0) for doc in tokenized_test]"
   ]
  },
  {
   "cell_type": "code",
   "execution_count": 21,
   "metadata": {},
   "outputs": [],
   "source": [
    "from sklearn.ensemble import RandomForestClassifier\n",
    "from sklearn.svm import SVC\n",
    "from sklearn.linear_model import LogisticRegression\n",
    "from xgboost import XGBClassifier"
   ]
  },
  {
   "cell_type": "code",
   "execution_count": 22,
   "metadata": {},
   "outputs": [],
   "source": [
    "# Define a list of classifiers\n",
    "classifiers = [\n",
    "    RandomForestClassifier(),\n",
    "    SVC(kernel='linear'),\n",
    "    LogisticRegression(),\n",
    "    XGBClassifier()\n",
    "]"
   ]
  },
  {
   "cell_type": "code",
   "execution_count": 24,
   "metadata": {},
   "outputs": [],
   "source": [
    "# Function to print classifier reports\n",
    "def print_classifier_report(classifier):\n",
    "    classifier.fit(train_vectors, y_train)\n",
    "    predictions = classifier.predict(test_vectors)\n",
    "    report = classification_report(y_test, predictions)\n",
    "    print(f\"Classifier: {classifier.__class__.__name__}\")\n",
    "    print(report)\n",
    "    print(\"=\" * 80)"
   ]
  },
  {
   "cell_type": "code",
   "execution_count": 26,
   "metadata": {},
   "outputs": [
    {
     "name": "stdout",
     "output_type": "stream",
     "text": [
      "Classifier: RandomForestClassifier\n",
      "              precision    recall  f1-score   support\n",
      "\n",
      "           0       0.34      0.42      0.38       151\n",
      "           1       0.32      0.34      0.33       202\n",
      "           2       0.37      0.42      0.40       195\n",
      "           3       0.35      0.43      0.39       183\n",
      "           4       0.41      0.31      0.35       205\n",
      "           5       0.44      0.42      0.43       215\n",
      "           6       0.63      0.71      0.67       193\n",
      "           7       0.45      0.49      0.47       196\n",
      "           8       0.36      0.47      0.41       168\n",
      "           9       0.45      0.42      0.44       211\n",
      "          10       0.57      0.69      0.62       198\n",
      "          11       0.53      0.61      0.57       201\n",
      "          12       0.40      0.30      0.34       202\n",
      "          13       0.50      0.45      0.47       194\n",
      "          14       0.49      0.43      0.46       189\n",
      "          15       0.54      0.70      0.61       202\n",
      "          16       0.43      0.38      0.41       188\n",
      "          17       0.57      0.63      0.60       182\n",
      "          18       0.51      0.32      0.39       159\n",
      "          19       0.35      0.07      0.11       136\n",
      "\n",
      "    accuracy                           0.46      3770\n",
      "   macro avg       0.45      0.45      0.44      3770\n",
      "weighted avg       0.45      0.46      0.45      3770\n",
      "\n",
      "================================================================================\n"
     ]
    }
   ],
   "source": [
    "print_classifier_report(classifiers[0])"
   ]
  },
  {
   "cell_type": "code",
   "execution_count": 27,
   "metadata": {},
   "outputs": [
    {
     "name": "stdout",
     "output_type": "stream",
     "text": [
      "Classifier: SVC\n",
      "              precision    recall  f1-score   support\n",
      "\n",
      "           0       0.45      0.62      0.52       151\n",
      "           1       0.43      0.46      0.45       202\n",
      "           2       0.57      0.60      0.58       195\n",
      "           3       0.42      0.49      0.45       183\n",
      "           4       0.49      0.38      0.43       205\n",
      "           5       0.62      0.59      0.60       215\n",
      "           6       0.72      0.74      0.73       193\n",
      "           7       0.56      0.59      0.57       196\n",
      "           8       0.60      0.65      0.62       168\n",
      "           9       0.61      0.65      0.63       211\n",
      "          10       0.71      0.68      0.70       198\n",
      "          11       0.73      0.70      0.72       201\n",
      "          12       0.48      0.43      0.46       202\n",
      "          13       0.66      0.64      0.65       194\n",
      "          14       0.67      0.72      0.70       189\n",
      "          15       0.65      0.81      0.72       202\n",
      "          16       0.58      0.64      0.61       188\n",
      "          17       0.78      0.69      0.73       182\n",
      "          18       0.56      0.46      0.51       159\n",
      "          19       0.49      0.20      0.28       136\n",
      "\n",
      "    accuracy                           0.59      3770\n",
      "   macro avg       0.59      0.59      0.58      3770\n",
      "weighted avg       0.59      0.59      0.59      3770\n",
      "\n",
      "================================================================================\n"
     ]
    }
   ],
   "source": [
    "print_classifier_report(classifiers[1])"
   ]
  },
  {
   "cell_type": "code",
   "execution_count": 28,
   "metadata": {},
   "outputs": [
    {
     "name": "stdout",
     "output_type": "stream",
     "text": [
      "Classifier: LogisticRegression\n",
      "              precision    recall  f1-score   support\n",
      "\n",
      "           0       0.40      0.46      0.43       151\n",
      "           1       0.46      0.43      0.44       202\n",
      "           2       0.52      0.59      0.56       195\n",
      "           3       0.42      0.42      0.42       183\n",
      "           4       0.51      0.36      0.42       205\n",
      "           5       0.57      0.58      0.57       215\n",
      "           6       0.72      0.70      0.71       193\n",
      "           7       0.54      0.48      0.51       196\n",
      "           8       0.52      0.67      0.58       168\n",
      "           9       0.59      0.56      0.57       211\n",
      "          10       0.63      0.69      0.66       198\n",
      "          11       0.68      0.69      0.68       201\n",
      "          12       0.49      0.43      0.46       202\n",
      "          13       0.56      0.59      0.57       194\n",
      "          14       0.57      0.71      0.63       189\n",
      "          15       0.59      0.78      0.67       202\n",
      "          16       0.54      0.55      0.54       188\n",
      "          17       0.68      0.69      0.68       182\n",
      "          18       0.48      0.38      0.43       159\n",
      "          19       0.35      0.14      0.20       136\n",
      "\n",
      "    accuracy                           0.55      3770\n",
      "   macro avg       0.54      0.54      0.54      3770\n",
      "weighted avg       0.55      0.55      0.54      3770\n",
      "\n",
      "================================================================================\n"
     ]
    },
    {
     "name": "stderr",
     "output_type": "stream",
     "text": [
      "/Users/adityanarayan/anaconda3/lib/python3.10/site-packages/sklearn/linear_model/_logistic.py:458: ConvergenceWarning: lbfgs failed to converge (status=1):\n",
      "STOP: TOTAL NO. of ITERATIONS REACHED LIMIT.\n",
      "\n",
      "Increase the number of iterations (max_iter) or scale the data as shown in:\n",
      "    https://scikit-learn.org/stable/modules/preprocessing.html\n",
      "Please also refer to the documentation for alternative solver options:\n",
      "    https://scikit-learn.org/stable/modules/linear_model.html#logistic-regression\n",
      "  n_iter_i = _check_optimize_result(\n"
     ]
    }
   ],
   "source": [
    "print_classifier_report(classifiers[2])"
   ]
  },
  {
   "cell_type": "code",
   "execution_count": 29,
   "metadata": {},
   "outputs": [
    {
     "name": "stdout",
     "output_type": "stream",
     "text": [
      "Classifier: XGBClassifier\n",
      "              precision    recall  f1-score   support\n",
      "\n",
      "           0       0.41      0.50      0.45       151\n",
      "           1       0.32      0.34      0.33       202\n",
      "           2       0.46      0.46      0.46       195\n",
      "           3       0.35      0.42      0.38       183\n",
      "           4       0.37      0.34      0.36       205\n",
      "           5       0.56      0.48      0.52       215\n",
      "           6       0.73      0.67      0.70       193\n",
      "           7       0.50      0.51      0.50       196\n",
      "           8       0.52      0.58      0.55       168\n",
      "           9       0.56      0.49      0.52       211\n",
      "          10       0.63      0.68      0.65       198\n",
      "          11       0.69      0.64      0.66       201\n",
      "          12       0.36      0.39      0.38       202\n",
      "          13       0.55      0.59      0.57       194\n",
      "          14       0.57      0.58      0.57       189\n",
      "          15       0.60      0.70      0.65       202\n",
      "          16       0.51      0.49      0.50       188\n",
      "          17       0.68      0.62      0.65       182\n",
      "          18       0.48      0.47      0.48       159\n",
      "          19       0.43      0.25      0.32       136\n",
      "\n",
      "    accuracy                           0.51      3770\n",
      "   macro avg       0.51      0.51      0.51      3770\n",
      "weighted avg       0.52      0.51      0.51      3770\n",
      "\n",
      "================================================================================\n"
     ]
    }
   ],
   "source": [
    "print_classifier_report(classifiers[3])"
   ]
  }
 ],
 "metadata": {
  "kernelspec": {
   "display_name": "base",
   "language": "python",
   "name": "python3"
  },
  "language_info": {
   "codemirror_mode": {
    "name": "ipython",
    "version": 3
   },
   "file_extension": ".py",
   "mimetype": "text/x-python",
   "name": "python",
   "nbconvert_exporter": "python",
   "pygments_lexer": "ipython3",
   "version": "3.10.8"
  },
  "orig_nbformat": 4
 },
 "nbformat": 4,
 "nbformat_minor": 2
}
