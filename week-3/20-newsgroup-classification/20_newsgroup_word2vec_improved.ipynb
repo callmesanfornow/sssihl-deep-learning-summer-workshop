{
  "nbformat": 4,
  "nbformat_minor": 0,
  "metadata": {
    "colab": {
      "provenance": [],
      "collapsed_sections": [
        "BZUzPIQZ1cig"
      ]
    },
    "kernelspec": {
      "name": "python3",
      "display_name": "Python 3"
    },
    "language_info": {
      "name": "python"
    }
  },
  "cells": [
    {
      "cell_type": "markdown",
      "source": [
        "# Improved Prediction using cleaned data+ stopwords and Word2Vec\n",
        "\n",
        "Achieved better results by cleaning unnecessary punctuations and using NLTK stopwords to clean the text.\n",
        "\n"
      ],
      "metadata": {
        "id": "Hu-B2Rdv09b7"
      }
    },
    {
      "cell_type": "markdown",
      "source": [
        "## Basic Imports"
      ],
      "metadata": {
        "id": "BZUzPIQZ1cig"
      }
    },
    {
      "cell_type": "code",
      "execution_count": 1,
      "metadata": {
        "id": "RpooQfOFxVNw"
      },
      "outputs": [],
      "source": [
        "import re\n",
        "import nltk\n",
        "import gensim\n",
        "import pandas as pd\n",
        "import numpy as np\n",
        "import seaborn as sns\n",
        "import matplotlib.pyplot as plt\n",
        "from sklearn.datasets import fetch_20newsgroups\n",
        "from sklearn.feature_extraction.text import CountVectorizer\n",
        "from sklearn.feature_extraction.text import TfidfTransformer\n",
        "from sklearn.model_selection import train_test_split\n",
        "from sklearn.metrics import classification_report, confusion_matrix\n",
        "from sklearn.linear_model import LogisticRegression\n",
        "from sklearn.svm import SVC\n",
        "from sklearn.ensemble import RandomForestClassifier\n",
        "from xgboost import XGBClassifier"
      ]
    },
    {
      "cell_type": "code",
      "source": [
        "# Download NLTK resources\n",
        "nltk.download('stopwords')\n",
        "nltk.download('punkt')"
      ],
      "metadata": {
        "colab": {
          "base_uri": "https://localhost:8080/"
        },
        "id": "73jfwXELzV0p",
        "outputId": "c0371090-ba90-42aa-f9f0-3cf1ed3b775d"
      },
      "execution_count": 2,
      "outputs": [
        {
          "output_type": "stream",
          "name": "stderr",
          "text": [
            "[nltk_data] Downloading package stopwords to /root/nltk_data...\n",
            "[nltk_data]   Unzipping corpora/stopwords.zip.\n",
            "[nltk_data] Downloading package punkt to /root/nltk_data...\n",
            "[nltk_data]   Unzipping tokenizers/punkt.zip.\n"
          ]
        },
        {
          "output_type": "execute_result",
          "data": {
            "text/plain": [
              "True"
            ]
          },
          "metadata": {},
          "execution_count": 2
        }
      ]
    },
    {
      "cell_type": "code",
      "source": [
        "import warnings\n",
        "from sklearn.exceptions import ConvergenceWarning\n",
        "\n",
        "# Ignore specific warnings\n",
        "warnings.filterwarnings(\"ignore\", category=ConvergenceWarning)\n",
        "\n",
        "# Your code here\n",
        "# Perform scikit-learn operations that may generate warnings\n"
      ],
      "metadata": {
        "id": "1H1Ylonl0zAS"
      },
      "execution_count": 3,
      "outputs": []
    },
    {
      "cell_type": "markdown",
      "source": [
        "## Loading Dataset"
      ],
      "metadata": {
        "id": "X5Hpc9Ca1fWp"
      }
    },
    {
      "cell_type": "code",
      "source": [
        "# Load the 20 Newsgroups dataset\n",
        "categories = ['alt.atheism', 'soc.religion.christian', 'comp.graphics', 'sci.med']\n",
        "newsgroups_train = fetch_20newsgroups(subset='train', categories=categories)"
      ],
      "metadata": {
        "id": "KbvlzfVFzYe0"
      },
      "execution_count": 4,
      "outputs": []
    },
    {
      "cell_type": "markdown",
      "source": [
        "## Data Cleaning Process\n",
        "\n",
        "Here we perform the data cleaning process discussed in the intro section"
      ],
      "metadata": {
        "id": "ZQj-V8dF1ida"
      }
    },
    {
      "cell_type": "code",
      "source": [
        "# Function to clean up the text\n",
        "def clean_text(text):\n",
        "    # Remove user names\n",
        "    text = re.sub(r'\\S+@\\S+', '', text)\n",
        "    # Remove non-alphanumeric characters\n",
        "    text = re.sub(r'[^a-zA-Z0-9]', ' ', text)\n",
        "    # Convert to lowercase\n",
        "    text = text.lower()\n",
        "    # Tokenize the text\n",
        "    tokens = nltk.word_tokenize(text)\n",
        "    # Remove stopwords\n",
        "    stopwords = nltk.corpus.stopwords.words('english')\n",
        "    tokens = [token for token in tokens if token not in stopwords]\n",
        "    # Join the tokens back into a single string\n",
        "    cleaned_text = ' '.join(tokens)\n",
        "    return cleaned_text"
      ],
      "metadata": {
        "id": "lFEPOPYZzan0"
      },
      "execution_count": 5,
      "outputs": []
    },
    {
      "cell_type": "code",
      "source": [
        "# Clean up the text in the dataset\n",
        "cleaned_text = [clean_text(text) for text in newsgroups_train.data]"
      ],
      "metadata": {
        "id": "zJ6naaIvzcvV"
      },
      "execution_count": 6,
      "outputs": []
    },
    {
      "cell_type": "markdown",
      "source": [
        "## Word2Vec Embeddings Extraction"
      ],
      "metadata": {
        "id": "2meDyQqH1v7j"
      }
    },
    {
      "cell_type": "code",
      "source": [
        "# Create Word2Vec model\n",
        "sentences = [nltk.word_tokenize(text) for text in cleaned_text]\n",
        "word2vec_model = gensim.models.Word2Vec(sentences, vector_size=100, window=5, min_count=1)"
      ],
      "metadata": {
        "id": "-mQY2qCIzfAf"
      },
      "execution_count": 7,
      "outputs": []
    },
    {
      "cell_type": "code",
      "source": [
        "# Convert text to Word2Vec vectors\n",
        "word_vectors = np.zeros((len(cleaned_text), 100))\n",
        "for i, sentence in enumerate(sentences):\n",
        "    for word in sentence:\n",
        "        if word in word2vec_model.wv:\n",
        "            word_vectors[i] += word2vec_model.wv[word]"
      ],
      "metadata": {
        "id": "POMAqvoczhSj"
      },
      "execution_count": 8,
      "outputs": []
    },
    {
      "cell_type": "markdown",
      "source": [
        "## Basic Housekeeping for classification task"
      ],
      "metadata": {
        "id": "a43gtbnJ1zy6"
      }
    },
    {
      "cell_type": "code",
      "source": [
        "# Function to print classification results\n",
        "def print_classification_results(model_name, y_true, y_pred, label_limit=7):\n",
        "    print(model_name + \":\")\n",
        "    print(\"------------------------\")\n",
        "    print(\"Classification Report:\")\n",
        "    print(classification_report(y_true, y_pred))\n",
        "    print(\"------------------------\")\n",
        "    print(\"Confusion Matrix:\")\n",
        "    cm = confusion_matrix(y_true, y_pred)\n",
        "    sns.heatmap(cm, annot=True, fmt='d', cmap='Blues')\n",
        "    plt.xlabel('Predicted Label')\n",
        "    plt.ylabel('Actual Label')\n",
        "    plt.show()\n",
        "    print()\n",
        "    # Print actual versus predicted labels\n",
        "    print(\"------------------------\")\n",
        "    actual_labels = [newsgroups_train.target_names[label] for label in y_true]\n",
        "    predicted_labels = [newsgroups_train.target_names[label] for label in y_pred]\n",
        "    print()\n",
        "    print(\"------------------------\")\n",
        "    print(f\"Actual vs Predicted Labels ({model_name}):\")\n",
        "    for actual, predicted in zip(actual_labels, predicted_labels):\n",
        "        if label_limit > 0:\n",
        "            print(f\"Actual: {actual}  Predicted: {predicted}\")\n",
        "            label_limit -= 1\n",
        "    print(\"------------------------\")"
      ],
      "metadata": {
        "id": "HYBikHR0zkbc"
      },
      "execution_count": 9,
      "outputs": []
    },
    {
      "cell_type": "code",
      "source": [
        "# Classification function\n",
        "def classification(model_name, X, y):\n",
        "    # Split the dataset into training and testing sets\n",
        "    X_train, X_test, y_train, y_test = train_test_split(X, y, test_size=0.2, random_state=42)\n",
        "\n",
        "    # Initialize the model based on the given model_name\n",
        "    if model_name == \"Logistic Regression\":\n",
        "        model = LogisticRegression()\n",
        "    elif model_name == \"SVC Linear\":\n",
        "        model = SVC(kernel='linear')\n",
        "    elif model_name == \"Random Forest\":\n",
        "        model = RandomForestClassifier()\n",
        "    elif model_name == \"XGBoost\":\n",
        "        model = XGBClassifier()\n",
        "    else:\n",
        "        print(\"Invalid model name!\")\n",
        "        return\n",
        "\n",
        "    # Fit the model\n",
        "    model.fit(X_train, y_train)\n",
        "\n",
        "    # Make predictions\n",
        "    predictions = model.predict(X_test)\n",
        "\n",
        "    # Print classification results\n",
        "    print_classification_results(model_name, y_test, predictions)"
      ],
      "metadata": {
        "id": "5FEaJ6VEzm-s"
      },
      "execution_count": 10,
      "outputs": []
    },
    {
      "cell_type": "markdown",
      "source": [
        "## Classifiers Used:\n",
        "\n",
        "\n",
        "\n",
        "*   Logistic Regression\n",
        "*   SVC Linear\n",
        "*   Random Forest\n",
        "*   XGBoost\n",
        "\n"
      ],
      "metadata": {
        "id": "d3eU9bGk19N6"
      }
    },
    {
      "cell_type": "code",
      "source": [
        "# Array of model names\n",
        "models = [\"Logistic Regression\", \"SVC Linear\", \"Random Forest\", \"XGBoost\"]"
      ],
      "metadata": {
        "id": "xb8vnWRxzppG"
      },
      "execution_count": 11,
      "outputs": []
    },
    {
      "cell_type": "markdown",
      "source": [
        "### Logistic Regression"
      ],
      "metadata": {
        "id": "lIsULe9j2PRb"
      }
    },
    {
      "cell_type": "code",
      "source": [
        "classification(models[0], word_vectors, newsgroups_train.target)"
      ],
      "metadata": {
        "colab": {
          "base_uri": "https://localhost:8080/",
          "height": 967
        },
        "id": "qXEwnuVLztMv",
        "outputId": "37275753-a4e7-4796-b7b8-82d4f019cb22"
      },
      "execution_count": 12,
      "outputs": [
        {
          "output_type": "stream",
          "name": "stdout",
          "text": [
            "Logistic Regression:\n",
            "------------------------\n",
            "Classification Report:\n",
            "              precision    recall  f1-score   support\n",
            "\n",
            "           0       0.72      0.77      0.74        86\n",
            "           1       0.76      0.88      0.82       107\n",
            "           2       0.81      0.66      0.73       132\n",
            "           3       0.76      0.78      0.77       127\n",
            "\n",
            "    accuracy                           0.77       452\n",
            "   macro avg       0.76      0.77      0.76       452\n",
            "weighted avg       0.77      0.77      0.76       452\n",
            "\n",
            "------------------------\n",
            "Confusion Matrix:\n"
          ]
        },
        {
          "output_type": "display_data",
          "data": {
            "text/plain": [
              "<Figure size 640x480 with 2 Axes>"
            ],
            "image/png": "[encoded data removed]"
          },
          "metadata": {}
        },
        {
          "output_type": "stream",
          "name": "stdout",
          "text": [
            "\n",
            "------------------------\n",
            "\n",
            "------------------------\n",
            "Actual vs Predicted Labels (Logistic Regression):\n",
            "Actual: sci.med  Predicted: comp.graphics\n",
            "Actual: soc.religion.christian  Predicted: alt.atheism\n",
            "Actual: sci.med  Predicted: sci.med\n",
            "Actual: soc.religion.christian  Predicted: soc.religion.christian\n",
            "Actual: alt.atheism  Predicted: alt.atheism\n",
            "Actual: alt.atheism  Predicted: alt.atheism\n",
            "Actual: soc.religion.christian  Predicted: soc.religion.christian\n",
            "------------------------\n"
          ]
        }
      ]
    },
    {
      "cell_type": "markdown",
      "source": [
        "### SVC Linear"
      ],
      "metadata": {
        "id": "vbVndVoX2SEK"
      }
    },
    {
      "cell_type": "code",
      "source": [
        "classification(models[1], word_vectors, newsgroups_train.target)"
      ],
      "metadata": {
        "colab": {
          "base_uri": "https://localhost:8080/",
          "height": 967
        },
        "id": "TL4VF89tzyLv",
        "outputId": "14520ca6-d1ef-45f0-9fc2-4af582f415cc"
      },
      "execution_count": 13,
      "outputs": [
        {
          "output_type": "stream",
          "name": "stdout",
          "text": [
            "SVC Linear:\n",
            "------------------------\n",
            "Classification Report:\n",
            "              precision    recall  f1-score   support\n",
            "\n",
            "           0       0.80      0.90      0.85        86\n",
            "           1       0.92      0.86      0.89       107\n",
            "           2       0.84      0.85      0.85       132\n",
            "           3       0.89      0.87      0.88       127\n",
            "\n",
            "    accuracy                           0.87       452\n",
            "   macro avg       0.86      0.87      0.87       452\n",
            "weighted avg       0.87      0.87      0.87       452\n",
            "\n",
            "------------------------\n",
            "Confusion Matrix:\n"
          ]
        },
        {
          "output_type": "display_data",
          "data": {
            "text/plain": [
              "<Figure size 640x480 with 2 Axes>"
            ],
            "image/png": "[encoded data removed]"
          },
          "metadata": {}
        },
        {
          "output_type": "stream",
          "name": "stdout",
          "text": [
            "\n",
            "------------------------\n",
            "\n",
            "------------------------\n",
            "Actual vs Predicted Labels (SVC Linear):\n",
            "Actual: sci.med  Predicted: alt.atheism\n",
            "Actual: soc.religion.christian  Predicted: sci.med\n",
            "Actual: sci.med  Predicted: sci.med\n",
            "Actual: soc.religion.christian  Predicted: soc.religion.christian\n",
            "Actual: alt.atheism  Predicted: alt.atheism\n",
            "Actual: alt.atheism  Predicted: alt.atheism\n",
            "Actual: soc.religion.christian  Predicted: soc.religion.christian\n",
            "------------------------\n"
          ]
        }
      ]
    },
    {
      "cell_type": "markdown",
      "source": [
        "### Random Forest"
      ],
      "metadata": {
        "id": "NE-J0YCG2UQ1"
      }
    },
    {
      "cell_type": "code",
      "source": [
        "classification(models[2], word_vectors, newsgroups_train.target)"
      ],
      "metadata": {
        "colab": {
          "base_uri": "https://localhost:8080/",
          "height": 967
        },
        "id": "NHFRNOEszzXm",
        "outputId": "cd194bcf-8e3d-4f58-8294-fd70311aa4b5"
      },
      "execution_count": 14,
      "outputs": [
        {
          "output_type": "stream",
          "name": "stdout",
          "text": [
            "Random Forest:\n",
            "------------------------\n",
            "Classification Report:\n",
            "              precision    recall  f1-score   support\n",
            "\n",
            "           0       0.67      0.60      0.63        86\n",
            "           1       0.77      0.87      0.82       107\n",
            "           2       0.64      0.64      0.64       132\n",
            "           3       0.76      0.72      0.74       127\n",
            "\n",
            "    accuracy                           0.71       452\n",
            "   macro avg       0.71      0.71      0.71       452\n",
            "weighted avg       0.71      0.71      0.71       452\n",
            "\n",
            "------------------------\n",
            "Confusion Matrix:\n"
          ]
        },
        {
          "output_type": "display_data",
          "data": {
            "text/plain": [
              "<Figure size 640x480 with 2 Axes>"
            ],
            "image/png": "[encoded data removed]"
          },
          "metadata": {}
        },
        {
          "output_type": "stream",
          "name": "stdout",
          "text": [
            "\n",
            "------------------------\n",
            "\n",
            "------------------------\n",
            "Actual vs Predicted Labels (Random Forest):\n",
            "Actual: sci.med  Predicted: comp.graphics\n",
            "Actual: soc.religion.christian  Predicted: alt.atheism\n",
            "Actual: sci.med  Predicted: sci.med\n",
            "Actual: soc.religion.christian  Predicted: soc.religion.christian\n",
            "Actual: alt.atheism  Predicted: alt.atheism\n",
            "Actual: alt.atheism  Predicted: alt.atheism\n",
            "Actual: soc.religion.christian  Predicted: soc.religion.christian\n",
            "------------------------\n"
          ]
        }
      ]
    },
    {
      "cell_type": "markdown",
      "source": [
        "### XGBoost"
      ],
      "metadata": {
        "id": "luGq133H2Wzd"
      }
    },
    {
      "cell_type": "code",
      "source": [
        "classification(models[3], word_vectors, newsgroups_train.target)"
      ],
      "metadata": {
        "colab": {
          "base_uri": "https://localhost:8080/",
          "height": 967
        },
        "id": "IC5dlgwyz0QQ",
        "outputId": "9e35a255-4a4a-42ec-a7c6-a37ec7b9f895"
      },
      "execution_count": 15,
      "outputs": [
        {
          "output_type": "stream",
          "name": "stdout",
          "text": [
            "XGBoost:\n",
            "------------------------\n",
            "Classification Report:\n",
            "              precision    recall  f1-score   support\n",
            "\n",
            "           0       0.71      0.70      0.70        86\n",
            "           1       0.78      0.85      0.82       107\n",
            "           2       0.71      0.70      0.71       132\n",
            "           3       0.79      0.75      0.77       127\n",
            "\n",
            "    accuracy                           0.75       452\n",
            "   macro avg       0.75      0.75      0.75       452\n",
            "weighted avg       0.75      0.75      0.75       452\n",
            "\n",
            "------------------------\n",
            "Confusion Matrix:\n"
          ]
        },
        {
          "output_type": "display_data",
          "data": {
            "text/plain": [
              "<Figure size 640x480 with 2 Axes>"
            ],
            "image/png": "[encoded data removed]"
          },
          "metadata": {}
        },
        {
          "output_type": "stream",
          "name": "stdout",
          "text": [
            "\n",
            "------------------------\n",
            "\n",
            "------------------------\n",
            "Actual vs Predicted Labels (XGBoost):\n",
            "Actual: sci.med  Predicted: comp.graphics\n",
            "Actual: soc.religion.christian  Predicted: alt.atheism\n",
            "Actual: sci.med  Predicted: sci.med\n",
            "Actual: soc.religion.christian  Predicted: soc.religion.christian\n",
            "Actual: alt.atheism  Predicted: alt.atheism\n",
            "Actual: alt.atheism  Predicted: alt.atheism\n",
            "Actual: soc.religion.christian  Predicted: soc.religion.christian\n",
            "------------------------\n"
          ]
        }
      ]
    },
    {
      "cell_type": "markdown",
      "source": [
        "## Results"
      ],
      "metadata": {
        "id": "Q5qb17_m2aVU"
      }
    },
    {
      "cell_type": "markdown",
      "source": [
        "From the classification, we can see we have a clear winner, which is SVC Linear with 87% accuracy and fantatsic classification metrics and macro averages."
      ],
      "metadata": {
        "id": "RQRhUoCx2Y6F"
      }
    }
  ]
}