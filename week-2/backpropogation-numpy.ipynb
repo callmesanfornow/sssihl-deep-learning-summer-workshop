{
 "cells": [
  {
   "attachments": {},
   "cell_type": "markdown",
   "metadata": {},
   "source": [
    "# Implementing Backpropogation with numpy"
   ]
  },
  {
   "cell_type": "code",
   "execution_count": 56,
   "metadata": {},
   "outputs": [],
   "source": [
    "import numpy as np"
   ]
  },
  {
   "attachments": {},
   "cell_type": "markdown",
   "metadata": {},
   "source": [
    "## 1: Initialize the network parameters:\n",
    "\n",
    "* Define the number of input nodes, hidden nodes, and output nodes.(2, 4, 1)\n",
    "* Initialize the weights and biases for the hidden and output layers randomly."
   ]
  },
  {
   "cell_type": "code",
   "execution_count": 57,
   "metadata": {},
   "outputs": [],
   "source": [
    "input_size = 2\n",
    "hidden_size = 4\n",
    "output_size = 1"
   ]
  },
  {
   "attachments": {},
   "cell_type": "markdown",
   "metadata": {},
   "source": [
    "Initialize weights and biases"
   ]
  },
  {
   "cell_type": "code",
   "execution_count": 58,
   "metadata": {},
   "outputs": [],
   "source": [
    "np.random.seed(42)  # Set a random seed for reproducibility\n",
    "W1 = np.random.randn(input_size, hidden_size)\n",
    "b1 = np.zeros(hidden_size)\n",
    "W2 = np.random.randn(hidden_size, output_size)\n",
    "b2 = np.zeros(output_size)"
   ]
  },
  {
   "cell_type": "code",
   "execution_count": 69,
   "metadata": {},
   "outputs": [
    {
     "data": {
      "text/plain": [
       "array([[ 0.51499428, -0.13527202,  0.62965638,  1.50952618],\n",
       "       [-0.23257888, -0.26795863,  1.55783301,  0.75462636]])"
      ]
     },
     "execution_count": 69,
     "metadata": {},
     "output_type": "execute_result"
    }
   ],
   "source": [
    "W1"
   ]
  },
  {
   "cell_type": "code",
   "execution_count": 70,
   "metadata": {},
   "outputs": [
    {
     "data": {
      "text/plain": [
       "array([ 0.04175902, -0.03171672, -0.01754353, -0.03461768])"
      ]
     },
     "execution_count": 70,
     "metadata": {},
     "output_type": "execute_result"
    }
   ],
   "source": [
    "b1"
   ]
  },
  {
   "cell_type": "code",
   "execution_count": 71,
   "metadata": {},
   "outputs": [
    {
     "data": {
      "text/plain": [
       "array([[-0.61685344],\n",
       "       [ 0.39771401],\n",
       "       [ 0.22840373],\n",
       "       [ 0.44550596]])"
      ]
     },
     "execution_count": 71,
     "metadata": {},
     "output_type": "execute_result"
    }
   ],
   "source": [
    "W2"
   ]
  },
  {
   "cell_type": "code",
   "execution_count": 72,
   "metadata": {},
   "outputs": [
    {
     "data": {
      "text/plain": [
       "array([-0.30688498])"
      ]
     },
     "execution_count": 72,
     "metadata": {},
     "output_type": "execute_result"
    }
   ],
   "source": [
    "b2"
   ]
  },
  {
   "attachments": {},
   "cell_type": "markdown",
   "metadata": {},
   "source": [
    "---"
   ]
  },
  {
   "attachments": {},
   "cell_type": "markdown",
   "metadata": {},
   "source": [
    "## 2: Implement the activation function and its derivative\n",
    "\n",
    "* Common choices for the activation function are sigmoid, ReLU, or tanh. \n",
    "\n",
    "    We will use **sigmoid** since we did problems with it.\n",
    "* Implement the activation function and its derivative using NumPy."
   ]
  },
  {
   "attachments": {},
   "cell_type": "markdown",
   "metadata": {},
   "source": [
    "Sigmoid Function and its deravative"
   ]
  },
  {
   "cell_type": "code",
   "execution_count": 59,
   "metadata": {},
   "outputs": [],
   "source": [
    "def sigmoid(x):\n",
    "    return 1 / (1 + np.exp(-x))"
   ]
  },
  {
   "cell_type": "code",
   "execution_count": 60,
   "metadata": {},
   "outputs": [],
   "source": [
    "def sigmoid_derivative(x):\n",
    "    return sigmoid(x) * (1 - sigmoid(x))"
   ]
  },
  {
   "attachments": {},
   "cell_type": "markdown",
   "metadata": {},
   "source": [
    "## 3: Implement forward propagation\n",
    "\n",
    "* Get the input data and forward propagate it through the network.\n",
    "* Compute the weighted sum of the inputs and apply the activation function.\n",
    "* Store the outputs of each layer for backpropagation."
   ]
  },
  {
   "cell_type": "code",
   "execution_count": 61,
   "metadata": {},
   "outputs": [],
   "source": [
    "def forward_propagation(X, W1, b1, W2, b2):\n",
    "    hidden_layer_input = np.dot(X, W1) + b1\n",
    "    hidden_layer_output = sigmoid(hidden_layer_input)\n",
    "    output_layer_input = np.dot(hidden_layer_output, W2) + b2\n",
    "    output_layer_output = sigmoid(output_layer_input)\n",
    "    return hidden_layer_output, output_layer_output"
   ]
  },
  {
   "attachments": {},
   "cell_type": "markdown",
   "metadata": {},
   "source": [
    "## 4: Implement the cost function\n",
    "\n",
    "* Choose an appropriate cost function based on your problem, such as mean squared error or cross-entropy.\n",
    "\n",
    "    We are using Mean Square Error since we learnt it in Fast.AI course\n",
    "    \n",
    "* Implement the cost function using NumPy."
   ]
  },
  {
   "cell_type": "code",
   "execution_count": 62,
   "metadata": {},
   "outputs": [],
   "source": [
    "def cost_function(y_true, y_pred):\n",
    "    return np.mean((y_true - y_pred)**2)"
   ]
  },
  {
   "attachments": {},
   "cell_type": "markdown",
   "metadata": {},
   "source": [
    "## 5: Implement backward propagation\n",
    "\n",
    "* Computing gradients of the weights and biases with respect to the cost function using the chain rule.\n",
    "* Update the weights and biases based on the computed gradients and a learning rate."
   ]
  },
  {
   "cell_type": "code",
   "execution_count": 63,
   "metadata": {},
   "outputs": [],
   "source": [
    "def backward_propagation(X, y, hidden_layer_output, output_layer_output):\n",
    "    output_error = (output_layer_output - y) * sigmoid_derivative(output_layer_output)\n",
    "    W2_gradient = np.dot(hidden_layer_output.T, output_error)\n",
    "    b2_gradient = np.sum(output_error, axis=0)\n",
    "    hidden_error = np.dot(output_error, W2.T) * sigmoid_derivative(hidden_layer_output)\n",
    "    W1_gradient = np.dot(X.T, hidden_error)\n",
    "    b1_gradient = np.sum(hidden_error, axis=0)\n",
    "    return W1_gradient, b1_gradient, W2_gradient, b2_gradient"
   ]
  },
  {
   "attachments": {},
   "cell_type": "markdown",
   "metadata": {},
   "source": [
    "## 6: Train the network\n",
    "\n",
    "* Iterate over the training data for a specified number of epochs.\n",
    "* Perform forward propagation, compute the cost, and then perform backward propagation to update the weights and biases."
   ]
  },
  {
   "cell_type": "code",
   "execution_count": 64,
   "metadata": {},
   "outputs": [],
   "source": [
    "def train(X, y, epochs, learning_rate, W1, b1, W2, b2):\n",
    "    cost_history = []\n",
    "\n",
    "    for epoch in range(epochs):\n",
    "        # Forward propagation\n",
    "        hidden_layer_output, output_layer_output = forward_propagation(X, W1, b1, W2, b2)\n",
    "\n",
    "        # Compute the cost\n",
    "        cost = cost_function(y, output_layer_output)\n",
    "        cost_history.append(cost)\n",
    "\n",
    "        # Backward propagation\n",
    "        W1_gradient, b1_gradient, W2_gradient, b2_gradient = backward_propagation(X, y, hidden_layer_output, output_layer_output)\n",
    "\n",
    "        # Update weights and biases\n",
    "        W1 -= learning_rate * W1_gradient\n",
    "        b1 -= learning_rate * b1_gradient\n",
    "        W2 -= learning_rate * W2_gradient\n",
    "        b2 -= learning_rate * b2_gradient\n",
    "\n",
    "        # Print the cost at every 100 epochs\n",
    "        if epoch % 100 == 0:\n",
    "            print(f\"Epoch {epoch}: Cost = {cost}\")\n",
    "\n",
    "    return W1, b1, W2, b2, cost_history"
   ]
  },
  {
   "attachments": {},
   "cell_type": "markdown",
   "metadata": {},
   "source": [
    "## Sample Problem\n",
    "\n",
    "|*X1*|*X2*|*y*|\n",
    "|---|---|---|\n",
    "|0|0|0|\n",
    "|0|1|1|\n",
    "|1|0|1|\n",
    "|1|1|0|\n",
    "\n",
    "with 1000 epochs \n",
    "\n",
    "learning rate of 0.1"
   ]
  },
  {
   "cell_type": "code",
   "execution_count": 65,
   "metadata": {},
   "outputs": [
    {
     "name": "stdout",
     "output_type": "stream",
     "text": [
      "Epoch 0: Cost = 0.28318958906443975\n",
      "Epoch 100: Cost = 0.25245088574712793\n",
      "Epoch 200: Cost = 0.25149401092363866\n",
      "Epoch 300: Cost = 0.2506490559263355\n",
      "Epoch 400: Cost = 0.2498933863720641\n",
      "Epoch 500: Cost = 0.2492111692465716\n",
      "Epoch 600: Cost = 0.2485910753611469\n",
      "Epoch 700: Cost = 0.24802503609805412\n",
      "Epoch 800: Cost = 0.24750733841541178\n",
      "Epoch 900: Cost = 0.24703395198964279\n"
     ]
    },
    {
     "data": {
      "image/png": "[encoded data removed]",
      "text/plain": [
       "<Figure size 640x480 with 1 Axes>"
      ]
     },
     "metadata": {},
     "output_type": "display_data"
    }
   ],
   "source": [
    "X = np.array([[0, 0], [0, 1], [1, 0], [1, 1]])\n",
    "y = np.array([[0], [1], [1], [0]])\n",
    "\n",
    "epochs = 1000\n",
    "learning_rate = 0.1\n",
    "\n",
    "# Train the network and get the cost history\n",
    "trained_W1, trained_b1, trained_W2, trained_b2, cost_history = train(X, y, epochs, learning_rate, W1, b1, W2, b2)\n",
    "\n",
    "# Plot the cost function\n",
    "plt.plot(range(epochs), cost_history)\n",
    "plt.xlabel('Epoch')\n",
    "plt.ylabel('Cost')\n",
    "plt.title('Cost Function')\n",
    "plt.show()\n"
   ]
  }
 ],
 "metadata": {
  "kernelspec": {
   "display_name": "base",
   "language": "python",
   "name": "python3"
  },
  "language_info": {
   "codemirror_mode": {
    "name": "ipython",
    "version": 3
   },
   "file_extension": ".py",
   "mimetype": "text/x-python",
   "name": "python",
   "nbconvert_exporter": "python",
   "pygments_lexer": "ipython3",
   "version": "3.10.9"
  },
  "orig_nbformat": 4
 },
 "nbformat": 4,
 "nbformat_minor": 2
}
